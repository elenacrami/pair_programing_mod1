{
 "cells": [
  {
   "cell_type": "markdown",
   "metadata": {},
   "source": [
    "EJERCICIO 1\n",
    "Validar un número de teléfono.\n",
    "\n",
    "Descripción: Verificar si una cadena representa un número de teléfono válido en el formato (XXX) XXX-XXXX.\n",
    "\n",
    "Probad para cada uno de los teléfonos que tenemos en la siguiente lista:\n",
    "telefonos = [\"(123) 456-7890\", \"178 1890-733\", \"(555) 238-1987\", \"(123) 4560-7890\", \"(ABC) 098-1111\"]"
   ]
  },
  {
   "cell_type": "code",
   "execution_count": 11,
   "metadata": {},
   "outputs": [
    {
     "name": "stdout",
     "output_type": "stream",
     "text": [
      "Esta es mi lista de telefonos convertida a string (123) 456-7890 178 1890-733 (555) 238-1987 (123) 4560-7890 (ABC) 098-1111\n",
      "Los numeros verificados son: []\n"
     ]
    },
    {
     "name": "stderr",
     "output_type": "stream",
     "text": [
      "<>:8: SyntaxWarning: invalid escape sequence '\\d'\n",
      "<>:8: SyntaxWarning: invalid escape sequence '\\d'\n",
      "/tmp/ipykernel_2048/1494054537.py:8: SyntaxWarning: invalid escape sequence '\\d'\n",
      "  pattern = \"^(\\d{3})\\s(\\d{3})-(\\d{4})$\"\n"
     ]
    }
   ],
   "source": [
    "import re \n",
    "telefonos = [\"(123) 456-7890\", \"178 1890-733\", \"(555) 238-1987\", \"(123) 4560-7890\", \"(ABC) 098-1111\"]\n",
    "\n",
    "telefonos_string = \" \".join(telefonos)\n",
    "\n",
    "print(\"Esta es mi lista de telefonos convertida a string\", telefonos_string)\n",
    "\n",
    "pattern = \"^(\\d{3})\\s(\\d{3})-(\\d{4})$\"\n",
    "            \n",
    "numero_verificado =re.findall(pattern, telefonos_string)\n",
    "\n",
    "print(f\"Los numeros verificados son: {numero_verificado}\")"
   ]
  },
  {
   "cell_type": "code",
   "execution_count": 13,
   "metadata": {},
   "outputs": [
    {
     "ename": "TypeError",
     "evalue": "expected string or bytes-like object, got 'list'",
     "output_type": "error",
     "traceback": [
      "\u001b[0;31m---------------------------------------------------------------------------\u001b[0m",
      "\u001b[0;31mTypeError\u001b[0m                                 Traceback (most recent call last)",
      "Cell \u001b[0;32mIn[13], line 8\u001b[0m\n\u001b[1;32m      5\u001b[0m patron \u001b[38;5;241m=\u001b[39m \u001b[38;5;124mr\u001b[39m\u001b[38;5;124m\"\u001b[39m\u001b[38;5;124m^\u001b[39m\u001b[38;5;124m\\\u001b[39m\u001b[38;5;124m(\u001b[39m\u001b[38;5;124m\\\u001b[39m\u001b[38;5;124md\u001b[39m\u001b[38;5;132;01m{3}\u001b[39;00m\u001b[38;5;124m\\\u001b[39m\u001b[38;5;124m) \u001b[39m\u001b[38;5;124m\\\u001b[39m\u001b[38;5;124md\u001b[39m\u001b[38;5;132;01m{3}\u001b[39;00m\u001b[38;5;124m-\u001b[39m\u001b[38;5;124m\\\u001b[39m\u001b[38;5;124md\u001b[39m\u001b[38;5;132;01m{4}\u001b[39;00m\u001b[38;5;124m$\u001b[39m\u001b[38;5;124m\"\u001b[39m\n\u001b[1;32m      7\u001b[0m \u001b[38;5;28;01mfor\u001b[39;00m telefono \u001b[38;5;129;01min\u001b[39;00m telefonos:\n\u001b[0;32m----> 8\u001b[0m     \u001b[38;5;28;01mif\u001b[39;00m re\u001b[38;5;241m.\u001b[39mfindall(patron, telefonos):\n\u001b[1;32m      9\u001b[0m         \u001b[38;5;28mprint\u001b[39m(\u001b[38;5;124mf\u001b[39m\u001b[38;5;124m\"\u001b[39m\u001b[38;5;124mEl numero de \u001b[39m\u001b[38;5;132;01m{\u001b[39;00mtelefono\u001b[38;5;132;01m}\u001b[39;00m\u001b[38;5;124m es valido.\u001b[39m\u001b[38;5;124m\"\u001b[39m)\n\u001b[1;32m     11\u001b[0m     \u001b[38;5;28;01melse\u001b[39;00m:\n",
      "File \u001b[0;32m~/anaconda3/lib/python3.12/re/__init__.py:217\u001b[0m, in \u001b[0;36mfindall\u001b[0;34m(pattern, string, flags)\u001b[0m\n\u001b[1;32m    209\u001b[0m \u001b[38;5;28;01mdef\u001b[39;00m \u001b[38;5;21mfindall\u001b[39m(pattern, string, flags\u001b[38;5;241m=\u001b[39m\u001b[38;5;241m0\u001b[39m):\n\u001b[1;32m    210\u001b[0m \u001b[38;5;250m    \u001b[39m\u001b[38;5;124;03m\"\"\"Return a list of all non-overlapping matches in the string.\u001b[39;00m\n\u001b[1;32m    211\u001b[0m \n\u001b[1;32m    212\u001b[0m \u001b[38;5;124;03m    If one or more capturing groups are present in the pattern, return\u001b[39;00m\n\u001b[0;32m   (...)\u001b[0m\n\u001b[1;32m    215\u001b[0m \n\u001b[1;32m    216\u001b[0m \u001b[38;5;124;03m    Empty matches are included in the result.\"\"\"\u001b[39;00m\n\u001b[0;32m--> 217\u001b[0m     \u001b[38;5;28;01mreturn\u001b[39;00m _compile(pattern, flags)\u001b[38;5;241m.\u001b[39mfindall(string)\n",
      "\u001b[0;31mTypeError\u001b[0m: expected string or bytes-like object, got 'list'"
     ]
    }
   ],
   "source": [
    "import re \n",
    "\n",
    "telefonos = [\"(123) 456-7890\", \"178 1890-733\", \"(555) 238-1987\", \"(123) 4560-7890\", \"(ABC) 098-1111\"]\n",
    "\n",
    "patron = r\"^\\(\\d{3}\\) \\d{3}-\\d{4}$\"\n",
    "\n",
    "for telefono in telefonos:\n",
    "    if re.findall(patron, telefonos):\n",
    "        print(f\"El numero de {telefono} es valido.\")\n",
    "    \n",
    "    else:\n",
    "        print(f\"Este numero {telefono} no es valido.\")"
   ]
  },
  {
   "cell_type": "markdown",
   "metadata": {},
   "source": [
    "EJERCICIO 2\n",
    "\n",
    "Buscar todas las direcciones de correo electrónico en un texto.\n",
    "\n",
    "Descripción: Encontrar todas las direcciones de correo electrónico presentes en una cadena de texto.\n",
    "\n",
    "Probad con el siguiente string:\n",
    "texto = \"Mi correo es user@example.com. Contacta conmigo en john.doe@email.com\""
   ]
  },
  {
   "cell_type": "code",
   "execution_count": null,
   "metadata": {},
   "outputs": [],
   "source": [
    "texto = \"Mi correo es user@example.com. Contacta conmigo en john.doe@email.com\"\n",
    "\n",
    "correo_patron = \"^(\\w+?)\"\n",
    "\n",
    "correos_verificados = re.findall(correo_patron, texto)\n",
    "\n",
    "print(f\"\")"
   ]
  },
  {
   "cell_type": "markdown",
   "metadata": {},
   "source": [
    "EJERCICIO 3\n",
    "\n",
    "Validar un código postal.\n",
    "\n",
    "Descripción: Verificar si una cadena representa un código postal válido de 5 dígitos.\n",
    "\n",
    "Probad para cada uno de los códigos postales que tenemos en la siguiente lista:\n",
    "codigos_postales = [\"12345\", \"190037\", \"78409\", \"986449\", \"19305\"]"
   ]
  },
  {
   "cell_type": "code",
   "execution_count": null,
   "metadata": {},
   "outputs": [],
   "source": [
    "codigos_postales = [\"12345\", \"190037\", \"78409\", \"986449\", \"19305\"]\n",
    "\n"
   ]
  },
  {
   "cell_type": "markdown",
   "metadata": {},
   "source": [
    "EJERCICIO 4\n",
    "Encontrar todas las palabras que comienzan con una vocal en un texto.\n",
    "\n",
    "Descripción: Encontrar todas las palabras en un texto que comienzan con una vocal (a, e, i, o, u).\n",
    "\n",
    "Probad con el siguiente string:\n",
    "texto = \"El perro está ladrando. Ana tiene una manzana. La casa es grande.\""
   ]
  },
  {
   "cell_type": "code",
   "execution_count": null,
   "metadata": {},
   "outputs": [],
   "source": [
    "texto = \"El perro está ladrando. Ana tiene una manzana. La casa es grande.\"\n",
    "\n"
   ]
  },
  {
   "cell_type": "markdown",
   "metadata": {},
   "source": [
    "EJERCICIO 5\n",
    "Extraer todos los hashtags de un texto.\n",
    "\n",
    "Descripción: Extraer todos los hashtags (#) presentes en una cadena de texto.\n",
    "\n",
    "Probad con el siguiente string:\n",
    "texto = \"Me encanta el #deporte. #FelizViernes a todos. Estoy en la conferencia #Tech2022.\""
   ]
  },
  {
   "cell_type": "code",
   "execution_count": null,
   "metadata": {},
   "outputs": [],
   "source": []
  },
  {
   "cell_type": "markdown",
   "metadata": {},
   "source": [
    "EJERCICIO 6\n",
    "Buscar todos los números decimales en una cadena de texto.\n",
    "\n",
    "Descripción: Encontrar todos los números decimales presentes en una cadena de texto.\n",
    "\n",
    "Probad con el siguiente string:\n",
    "texto = \"El precio es $19.99. La temperatura es 25.5°C. El índice de inflación es del 2.5%.\"     "
   ]
  },
  {
   "cell_type": "code",
   "execution_count": null,
   "metadata": {},
   "outputs": [],
   "source": []
  },
  {
   "cell_type": "markdown",
   "metadata": {},
   "source": [
    "EJERCICIO 7\n",
    "Validar un nombre de usuario.\n",
    "\n",
    "Descripción: Verificar si una cadena representa un nombre de usuario válido, que contiene solo letras minúsculas, números y guiones bajos (_).\n",
    "\n",
    "Probad con la siguiente lista de usuarios:\n",
    "lista_usuarios = [\"juan_doe123\", \"lola_12\", \"Aurora_23\", \"12marta_lopez\"]"
   ]
  },
  {
   "cell_type": "code",
   "execution_count": null,
   "metadata": {},
   "outputs": [],
   "source": []
  },
  {
   "cell_type": "markdown",
   "metadata": {},
   "source": [
    "EJERCICIO 8\n",
    "\n",
    "Encontrar todas las fechas en formato \"dd/mm/aaaa\" en un texto.\n",
    "\n",
    "Descripción: Encontrar todas las fechas válidas en formato \"dd/mm/aaaa\" presentes en una cadena de texto.\n",
    "\n",
    "Probad con el siguiente string:\n",
    "texto = \"La fecha límite es el 31/12/2022. Hoy es 01/01/2023. Cumpleaños: 15/05/1990.\""
   ]
  },
  {
   "cell_type": "code",
   "execution_count": null,
   "metadata": {},
   "outputs": [],
   "source": []
  },
  {
   "cell_type": "markdown",
   "metadata": {},
   "source": [
    "EJERCICIO 9\n",
    "Remover caracteres especiales.\n",
    "\n",
    "Descripción: Dada una cadena de texto, remover cualquier carácter especial, como signos de puntuación y símbolos.\n",
    "\n",
    "Probad con el siguiente string:\n",
    "texto = '¡Hola, cómo estás? ¿Todo bien?'"
   ]
  },
  {
   "cell_type": "code",
   "execution_count": null,
   "metadata": {},
   "outputs": [],
   "source": []
  },
  {
   "cell_type": "markdown",
   "metadata": {},
   "source": [
    "EJERCICIO 10\n",
    "\n",
    "BONUS: Enmascarar información personal.\n",
    "\n",
    "Descripción: Dada una cadena de texto que contiene información personal, como nombres y direcciones, enmascarar esta información reemplazándola con asteriscos (*).\n",
    "\n",
    "Probad con este string:\n",
    "texto = 'El nombre del cliente es John Doe y su dirección es 123 Main Street.'"
   ]
  },
  {
   "cell_type": "code",
   "execution_count": null,
   "metadata": {},
   "outputs": [],
   "source": []
  }
 ],
 "metadata": {
  "kernelspec": {
   "display_name": "base",
   "language": "python",
   "name": "python3"
  },
  "language_info": {
   "codemirror_mode": {
    "name": "ipython",
    "version": 3
   },
   "file_extension": ".py",
   "mimetype": "text/x-python",
   "name": "python",
   "nbconvert_exporter": "python",
   "pygments_lexer": "ipython3",
   "version": "3.12.4"
  }
 },
 "nbformat": 4,
 "nbformat_minor": 2
}
