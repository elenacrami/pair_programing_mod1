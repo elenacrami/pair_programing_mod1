{
 "cells": [
  {
   "cell_type": "markdown",
   "metadata": {},
   "source": [
    "EJERCICIO 1\n",
    "Calcular el área de un círculo.\n",
    "Descripción: Crea una función llamada calcular_area_circulo que tome el radio como parámetro y devuelva el área del círculo."
   ]
  },
  {
   "cell_type": "code",
   "execution_count": 1,
   "metadata": {},
   "outputs": [
    {
     "name": "stdout",
     "output_type": "stream",
     "text": [
      "El area del circulo es: {6361.74}\n"
     ]
    }
   ],
   "source": [
    "def calcular_area_circulo(radio):\n",
    "    pi = 3.1416\n",
    "    area = pi* radio**2\n",
    "    return area\n",
    "\n",
    "radio1 = 45\n",
    "area_circulo = calcular_area_circulo(radio1)\n",
    "print(f\"El area del circulo es:\", {area_circulo})"
   ]
  },
  {
   "cell_type": "markdown",
   "metadata": {},
   "source": [
    "EJERCICIO 2\n",
    "Contar la cantidad de caracteres en una cadena.\n",
    "Descripción: Crea una función llamada contar_caracteres que tome una cadena como parámetro y devuelva la cantidad de caracteres que contiene."
   ]
  },
  {
   "cell_type": "code",
   "execution_count": 2,
   "metadata": {},
   "outputs": [
    {
     "name": "stdout",
     "output_type": "stream",
     "text": [
      "Cantidad de caracteres en el texto 12\n"
     ]
    }
   ],
   "source": [
    "def contar_caracteres(cadena):\n",
    "    contador = 0\n",
    "\n",
    "    for caracteres in cadena:\n",
    "        contador +=1\n",
    "\n",
    "    return contador\n",
    "\n",
    "cadena_texto = input(\"Escribe un texto:\")\n",
    "\n",
    "contador_letras = contar_caracteres(cadena_texto)\n",
    "\n",
    "print(\"Cantidad de caracteres en el texto\", contador_letras)"
   ]
  },
  {
   "cell_type": "markdown",
   "metadata": {},
   "source": [
    "EJERCICIO 3\n",
    "Determinar si una cadena es un palíndromo.\n",
    "Descripción: Crea una función llamada es_palindromo que tome una cadena como parámetro y devuelva True si es un palíndromo, o False si no lo es."
   ]
  },
  {
   "cell_type": "code",
   "execution_count": 2,
   "metadata": {},
   "outputs": [
    {
     "name": "stdout",
     "output_type": "stream",
     "text": [
      "Es 'Anita lava la tina' un palindromo' True'\n"
     ]
    }
   ],
   "source": [
    "def es_palindromo(cadena):\n",
    "    # Eliminar espacios y convertir a minusculas\n",
    "    cadena= cadena.replace(\" \",\"\").lower()\n",
    "       \n",
    "    # comparar la cadena con su inversa\n",
    "    return cadena == cadena[::-1]\n",
    "   \n",
    "cadena = \"Anita lava la tina\"\n",
    "\n",
    "resultado_palindromo = es_palindromo(cadena)\n",
    "\n",
    "print(f\"Es '{cadena}' un palindromo' {resultado_palindromo}'\")"
   ]
  },
  {
   "cell_type": "markdown",
   "metadata": {},
   "source": [
    "EJERCICIO 4\n",
    "Calcular el promedio de una lista de números.\n",
    "Descripción: Crea una función llamada calcular_promedio que tome una lista de números como parámetro y devuelva el promedio de todos sus elementos."
   ]
  },
  {
   "cell_type": "code",
   "execution_count": 3,
   "metadata": {},
   "outputs": [
    {
     "name": "stdout",
     "output_type": "stream",
     "text": [
      " El resultado del promedio es: 5.5\n"
     ]
    }
   ],
   "source": [
    "def calcular_promedio (lista_numeros):\n",
    "    if len(lista_numeros) == 0:\n",
    "        return None\n",
    "    \n",
    "    suma_numeros=sum(lista_numeros)\n",
    "    cantidad_numeros= len(lista_numeros)\n",
    "    promedio= suma_numeros/cantidad_numeros\n",
    "    return promedio\n",
    "\n",
    "lista_numeros= [1,2,3,4,5,6,7,8,9,10]\n",
    "promedio1= calcular_promedio(lista_numeros)\n",
    "print (' El resultado del promedio es:', promedio1)"
   ]
  },
  {
   "cell_type": "markdown",
   "metadata": {},
   "source": [
    "EJERCICIO 5\n",
    "Calcular el interés compuesto.\n",
    "Descripción: Crea una función llamada calcular_interes_compuesto que tome el capital inicial, la tasa de interés y el número de períodos como parámetros y devuelva el beneficio final después del interés compuesto."
   ]
  },
  {
   "cell_type": "code",
   "execution_count": 12,
   "metadata": {},
   "outputs": [
    {
     "name": "stdout",
     "output_type": "stream",
     "text": [
      "662.0000000000009\n"
     ]
    }
   ],
   "source": [
    "def calcular_interes_compuesto(capital, tasa, periodos):\n",
    "    interes_compuesto = capital * ((1+tasa) ** periodos)\n",
    "    beneficio_final = interes_compuesto - capital \n",
    "    # se resta porque el interes compuesto suma al capital el interes obtenido\n",
    "\n",
    "    return beneficio_final\n",
    "\n",
    "capital1 = 2000\n",
    "tasa1 = 0.10\n",
    "periodos1 = 3\n",
    "\n",
    "resultado_beneficios = calcular_interes_compuesto(capital1, tasa1, periodos1)\n",
    "print(resultado_beneficios)"
   ]
  },
  {
   "cell_type": "markdown",
   "metadata": {},
   "source": [
    "EJERCICIO 6\n",
    "Validar si una palabra es un anagrama de otra.\n",
    "Descripción: Crea una función llamada es_anagrama que tome dos palabras como parámetros y devuelva True si una es un anagrama de la otra, o False si no lo es."
   ]
  },
  {
   "cell_type": "code",
   "execution_count": 19,
   "metadata": {},
   "outputs": [
    {
     "name": "stdout",
     "output_type": "stream",
     "text": [
      "amor y mora' son anagramas? True\n"
     ]
    }
   ],
   "source": [
    "# Ejemplo de anagrama: MORA, ROMA, AMOR, OMAR, RAMO \n",
    "\n",
    "def es_anagrama(palabra1,palabra2):\n",
    "    caracteres_palabra1 = sorted(palabra1) # separamos los caracteres del string/cadena de texto\n",
    "    caracteres_palabra2 = sorted(palabra2)\n",
    "\n",
    "    if caracteres_palabra1 == caracteres_palabra2:\n",
    "        return True\n",
    "    else:\n",
    "        return False\n",
    "   \n",
    "palabra1 = \"amor\"\n",
    "palabra2 = \"mora\"\n",
    "\n",
    "resultado_anagrama = es_anagrama(palabra1,palabra2)\n",
    "\n",
    "print(f\"{palabra1} y {palabra2}' son anagramas? {resultado_anagrama}\")"
   ]
  },
  {
   "cell_type": "markdown",
   "metadata": {},
   "source": [
    "EJERCICIO 7\n",
    "Validar si una cadena de texto es un isograma.\n",
    "Descripción: Crea una función llamada es_isograma que tome una cadena de texto como parámetro y devuelva True si es un isograma. En caso contrario, devuelve False.\n",
    "¿Qué es un isograma? Una palabra que no contiene letras repetidas."
   ]
  },
  {
   "cell_type": "code",
   "execution_count": 24,
   "metadata": {},
   "outputs": [
    {
     "name": "stdout",
     "output_type": "stream",
     "text": [
      "La murcielago es un isograma? True\n"
     ]
    }
   ],
   "source": [
    "# ISOGRAMA = palabra o frase en la que cada letra aparece una sola vez\n",
    "# set no admite duplicados\n",
    "\n",
    "def es_isograma(cadena_iso):\n",
    "    set_palabra = set(cadena_iso) # Convertir el string de cadena de texto en un set ya que los sets no admiten elementos duplicados\n",
    "\n",
    "    if len(set_palabra) == len(cadena_iso): # la longitud del set imprimira las letras del string una sola vez, ej. con casa, imprimira {\"a\",\"s\", \"c\"}\n",
    "        return True\n",
    "    else:\n",
    "        return False\n",
    "\n",
    "cadena_iso = \"murcielago\"\n",
    "\n",
    "resultado2 = es_isograma(cadena_iso)\n",
    "print(f\"La {cadena_iso} es un isograma? {resultado2}\")\n",
    "    "
   ]
  },
  {
   "cell_type": "markdown",
   "metadata": {},
   "source": [
    "EJERCICIO 8\n",
    "Concatenar múltiples cadenas de texto\n",
    "Descripción: Crea una función llamada concatenar_cadenas que tome una cantidad variable de cadenas de texto como argumentos y devuelva una única cadena que contenga la concatenación de todas las cadenas ingresadas."
   ]
  },
  {
   "cell_type": "code",
   "execution_count": 30,
   "metadata": {},
   "outputs": [
    {
     "name": "stdout",
     "output_type": "stream",
     "text": [
      "La concatenacion de nuestras cadenas de texto se lee: Hola es jueves  estamos   estudiando   para el examen\n"
     ]
    }
   ],
   "source": [
    "def concatenar_cadenas(*args):\n",
    "        return \" \".join(args)\n",
    "\n",
    "concatenacion1 = concatenar_cadenas(\"Hola\", \"es\", \"jueves\")\n",
    "concatenacion2 = concatenar_cadenas(\" \", \"estamos\", \" \", \"estudiando\", \" \", \"para\", \"el\", \"examen\")\n",
    "\n",
    "resultado_concatenacion = concatenacion1 + concatenacion2\n",
    "print(f\"La concatenacion de nuestras cadenas de texto se lee: {resultado_concatenacion}\")"
   ]
  },
  {
   "cell_type": "markdown",
   "metadata": {},
   "source": [
    "EJERCICIO 9\n",
    "Crear un diccionario con información de una persona.\n",
    "Descripción: Crea una función llamada crear_persona que tome como argumentos clave-valor los datos de una persona, como nombre, edad, ciudad, etc., y devuelva un diccionario con toda la información ingresada."
   ]
  },
  {
   "cell_type": "code",
   "execution_count": 36,
   "metadata": {},
   "outputs": [
    {
     "name": "stdout",
     "output_type": "stream",
     "text": [
      "nombre: Maria\n",
      "edad: 12\n",
      "ciudad: Madrid\n"
     ]
    }
   ],
   "source": [
    "# kwargs: pasa un numero variable de argumentos clave-valor a una funcion, desempaquetandolos y devolviendo un diccionario\n",
    "def crear_persona(**kwargs):\n",
    "    for clave, valor in kwargs.items():\n",
    "        print(f\"{clave}: {valor}\")\n",
    "\n",
    "crear_persona(nombre = \"Maria\", edad = 12, ciudad = \"Madrid\")"
   ]
  },
  {
   "cell_type": "markdown",
   "metadata": {},
   "source": [
    "EJERCICIO 10\n",
    "Encontrar el número que falta en una lista ordenada de números consecutivos.\n",
    "Descripción: Crea una función llamada encontrar_numero_faltante que tome una lista de números consecutivos (del 1 al N, sin repetir) con un número faltante y devuelva ese número faltante."
   ]
  },
  {
   "cell_type": "code",
   "execution_count": 49,
   "metadata": {},
   "outputs": [
    {
     "name": "stdout",
     "output_type": "stream",
     "text": [
      "[2]\n"
     ]
    }
   ],
   "source": [
    "def encontrar_numero_faltante(lista):\n",
    "    lista_numeros = [3,1,4,5]\n",
    "    lista_ordenada = lista_numeros.sort()\n",
    "\n",
    "    lista_rango = list(range(1,11))\n",
    "    numero_faltante = []\n",
    "    \n",
    "    for num in lista_rango:\n",
    "        if num not in lista_numeros:\n",
    "            numero_faltante.append(num)\n",
    "            return numero_faltante\n",
    "\n",
    "print(encontrar_numero_faltante(lista_numeros))"
   ]
  },
  {
   "cell_type": "markdown",
   "metadata": {},
   "source": [
    "EJERCICIO 11\n",
    "Encontrar el elemento duplicado en una lista de números.\n",
    "Descripción: Crea una función llamada encontrar_duplicado que tome una lista de números enteros y devuelva el elemento que está duplicado en la lista."
   ]
  },
  {
   "cell_type": "code",
   "execution_count": 2,
   "metadata": {},
   "outputs": [
    {
     "name": "stdout",
     "output_type": "stream",
     "text": [
      "Esta es nuestra lista de numeros duplicados: [1, 2]\n"
     ]
    }
   ],
   "source": [
    "def encontrar_duplicado(lista_num):\n",
    "    num_duplicado = []\n",
    "    contador = {}\n",
    "\n",
    "    for num in lista_num:\n",
    "        if num in contador:\n",
    "            contador [num] += 1\n",
    "\n",
    "        else:\n",
    "            contador [num] = 1\n",
    "    \n",
    "    for num,count in contador.items():\n",
    "        if count > 1:\n",
    "            num_duplicado.append(num)\n",
    "    return num_duplicado\n",
    "\n",
    "\n",
    "lista_duplicada = [1,1,1,1,2,2,3,4,5]\n",
    "print(\"Esta es nuestra lista de numeros duplicados:\", encontrar_duplicado(lista_duplicada)) # en () se mete tus argumentos"
   ]
  },
  {
   "cell_type": "code",
   "execution_count": 3,
   "metadata": {},
   "outputs": [],
   "source": [
    "def encontrar_duplicado(lista_num):\n",
    "    num_duplicado = []\n",
    "    contador = 0\n",
    "\n",
    "    for num in lista_num:\n",
    "        if len(num) > 1:\n",
    "            contador +=1\n",
    "            return num_duplicado.append(num)\n",
    "        \n",
    "        else:\n",
    "            pass"
   ]
  }
 ],
 "metadata": {
  "kernelspec": {
   "display_name": "base",
   "language": "python",
   "name": "python3"
  },
  "language_info": {
   "codemirror_mode": {
    "name": "ipython",
    "version": 3
   },
   "file_extension": ".py",
   "mimetype": "text/x-python",
   "name": "python",
   "nbconvert_exporter": "python",
   "pygments_lexer": "ipython3",
   "version": "3.12.4"
  }
 },
 "nbformat": 4,
 "nbformat_minor": 2
}
