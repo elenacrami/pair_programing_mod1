{
 "cells": [
  {
   "cell_type": "markdown",
   "metadata": {},
   "source": [
    "EJERCICIOS IF-ELSE"
   ]
  },
  {
   "cell_type": "markdown",
   "metadata": {},
   "source": [
    "EJERCICIO 1\n",
    "Verificar si un número es positivo, negativo o cero\n",
    "Descripción: Dado un número, verifica si es positivo, negativo o cero."
   ]
  },
  {
   "cell_type": "code",
   "execution_count": 1,
   "metadata": {},
   "outputs": [
    {
     "name": "stdout",
     "output_type": "stream",
     "text": [
      "El numero es positivo\n"
     ]
    }
   ],
   "source": [
    "numero = float(input(\"Ingresa un numero:\"))\n",
    "\n",
    "if numero > 0:\n",
    "    print(\"El numero es positivo\")\n",
    "elif numero < 0:\n",
    "    print(\"El numero es negativo\")\n",
    "else:\n",
    "    print(\"El numero es 0\")"
   ]
  },
  {
   "cell_type": "markdown",
   "metadata": {},
   "source": [
    "EJERCICIO 2\n",
    "Verificar si un número es par o impar\n",
    "Descripción: Dado un número, verifica si es par o impar."
   ]
  },
  {
   "cell_type": "code",
   "execution_count": 2,
   "metadata": {},
   "outputs": [
    {
     "name": "stdout",
     "output_type": "stream",
     "text": [
      "El numero 7 es impar\n"
     ]
    }
   ],
   "source": [
    "numero = int(input(\"Introduce un numero\"))\n",
    "if numero % 2 == 0:\n",
    "    print(f\"El numero {numero} es par\")\n",
    "else:\n",
    "    print(f\"El numero {numero} es impar\")"
   ]
  },
  {
   "cell_type": "markdown",
   "metadata": {},
   "source": [
    "EJERCICIO 3\n",
    "Verificar si un estudiante aprobó o suspendió un exame\n",
    "Descripción: Dada la calificación de un estudiante en un examen, verifica si aprobó o suspendió (si la calificación es mayor o igual a 60 se considera aprobado)."
   ]
  },
  {
   "cell_type": "code",
   "execution_count": 4,
   "metadata": {},
   "outputs": [
    {
     "name": "stdout",
     "output_type": "stream",
     "text": [
      "Enhorabuena, has aprobado con 79.0\n"
     ]
    }
   ],
   "source": [
    "nota_examen = float(input(\"Ingresa tu nota de examen\"))\n",
    "\n",
    "if nota_examen >= 60:\n",
    "    print(f\"Enhorabuena, has aprobado con {nota_examen}\")\n",
    "else:\n",
    "    print(f\"Lamentablemente, has suspendido con {nota_examen}\")"
   ]
  },
  {
   "cell_type": "markdown",
   "metadata": {},
   "source": [
    "EJERCICIO 4\n",
    "Calcular el máximo entre dos números\n",
    "Descripción: Dados dos números, encuentra el máximo entre ellos."
   ]
  },
  {
   "cell_type": "code",
   "execution_count": 5,
   "metadata": {},
   "outputs": [
    {
     "name": "stdout",
     "output_type": "stream",
     "text": [
      "Este es el maximo de los dos numeros: 20\n"
     ]
    }
   ],
   "source": [
    "numero1 = 10\n",
    "numero2 = 20\n",
    "maximo_numeros = max(numero1,numero2)\n",
    "print(f\"Este es el maximo de los dos numeros: {maximo_numeros}\")"
   ]
  },
  {
   "cell_type": "code",
   "execution_count": 6,
   "metadata": {},
   "outputs": [
    {
     "name": "stdout",
     "output_type": "stream",
     "text": [
      "El maximo entre ambos numeros es: 20\n"
     ]
    }
   ],
   "source": [
    "# escrito usando la funcion if\n",
    "if numero1 > numero2:\n",
    "    print(\"El maximo entre ambos numeros es:\", numero1)\n",
    "else:\n",
    "    print(\"El maximo entre ambos numeros es:\", numero2)"
   ]
  },
  {
   "cell_type": "markdown",
   "metadata": {},
   "source": [
    "EJERCICIO 5\n",
    "Verificar si una letra es una vocal o una consonante\n",
    "Descripción: Dada una letra, verifica si es una vocal o una consonante."
   ]
  },
  {
   "cell_type": "code",
   "execution_count": 7,
   "metadata": {},
   "outputs": [
    {
     "name": "stdout",
     "output_type": "stream",
     "text": [
      "La letra o es una vocal\n"
     ]
    }
   ],
   "source": [
    "letra = input(\"Dime una letra del abecedario\")\n",
    "vocal = \"aeiou\"\n",
    "\n",
    "if letra in vocal:\n",
    "    print(f\"La letra {letra} es una vocal\")\n",
    "else:\n",
    "    print(f\"La letra {letra} es una consonante\")"
   ]
  },
  {
   "cell_type": "markdown",
   "metadata": {},
   "source": [
    "EJERCICIO 6\n",
    "Calcular el descuento en una compra según el monto total\n",
    "Descripción: Dado el monto total de una compra, calcula el descuento aplicado según las siguientes condiciones: si el monto es mayor o igual a $100, aplica un descuento del 10%; de lo contrario, no aplica ningún descuento."
   ]
  },
  {
   "cell_type": "code",
   "execution_count": 31,
   "metadata": {},
   "outputs": [
    {
     "name": "stdout",
     "output_type": "stream",
     "text": [
      "Se te ha aplicado el descuento del 10%, y el precio de tu compra es de: 900.0\n"
     ]
    }
   ],
   "source": [
    "monto_total = float(input(\"Introduce tu monto total de tu compra\"))\n",
    "\n",
    "if monto_total >= 100:\n",
    "   print(\"Se te ha aplicado el descuento del 10%, y el precio de tu compra es de:\", (monto_total - (monto_total*0.1)))\n",
    "else:\n",
    "   print(\"No se te aplica ningun descuento\")"
   ]
  },
  {
   "cell_type": "markdown",
   "metadata": {},
   "source": [
    "EJERCICIO 7\n",
    "Verificar si un año es bisiesto o no\n",
    "Descripción: Dado un año, verifica si es bisiesto o no (un año es bisiesto si es divisible entre 4, excepto aquellos divisibles entre 100 pero no entre 400)."
   ]
  },
  {
   "cell_type": "markdown",
   "metadata": {},
   "source": [
    "Todos los años bisiestos son divisibles entre 4. \n",
    "Aquellos años que son divisibles entre 4, pero no entre 100, son bisiestos. \n",
    "Los años que son divisibles entre 100, pero no entre 400, no son bisiestos. \n",
    "Sin embargo, los años divisibles entre 100 y entre 400 sí que son bisiestos"
   ]
  },
  {
   "cell_type": "code",
   "execution_count": 29,
   "metadata": {},
   "outputs": [
    {
     "name": "stdout",
     "output_type": "stream",
     "text": [
      "Este año es bisiesto\n"
     ]
    }
   ],
   "source": [
    "# ejemplo de un año bisiesto para hacer la comprobacion: 1988\n",
    "pregunta_anio = int(input(\"Introduce un año\"))\n",
    "\n",
    "if (pregunta_anio % 4 == 0) and (pregunta_anio % 100 != 0) or (pregunta_anio % 400 == 0):\n",
    "   print(\"Este año es bisiesto\")\n",
    "else:\n",
    "   print(\"Este año no es bisiesto\")"
   ]
  },
  {
   "cell_type": "markdown",
   "metadata": {},
   "source": [
    "EJERCICIO 8\n",
    "Asignar una categoria a una edad\n",
    "Descripción: Dada una edad, asigna una categoría según las siguientes condiciones: si la edad es menor de 18, la categoría es \"Menor de edad\"; si la edad está entre 18 y 64 (incluyendo ambos), la categoría es \"Adulto\"; de lo contrario, la categoría es \"Adulto mayor\"."
   ]
  },
  {
   "cell_type": "code",
   "execution_count": 34,
   "metadata": {},
   "outputs": [
    {
     "name": "stdout",
     "output_type": "stream",
     "text": [
      "Adulto\n"
     ]
    }
   ],
   "source": [
    "categoria_menor = \"Menor de edad\"\n",
    "categoria_adulto = \"Adulto\"\n",
    "categoria_adulto_mayor = \"Adulto mayor\"\n",
    "edad = int(input(\"Introduce tu edad:\"))\n",
    "if edad < 18:\n",
    "    print(categoria_menor)\n",
    "elif 18 <= edad <= 64:\n",
    "    print(categoria_adulto)\n",
    "else:\n",
    "    print(categoria_adulto_mayor)"
   ]
  },
  {
   "cell_type": "markdown",
   "metadata": {},
   "source": [
    "EJERCICIO 9\n",
    "Verificar si tres números forman un triángulo rectángulo\n",
    "Descripción: Dados tres números, verifica si forman un triángulo rectángulo (si se cumple el teorema de Pitágoras).\n"
   ]
  },
  {
   "cell_type": "code",
   "execution_count": 25,
   "metadata": {},
   "outputs": [
    {
     "name": "stdout",
     "output_type": "stream",
     "text": [
      "Se cumple el teorema de pitagoras\n"
     ]
    }
   ],
   "source": [
    "a_pit = 5\n",
    "b_pit = 4\n",
    "c_pit = 3\n",
    "if a_pit ** 2 == (b_pit ** 2) + (c_pit ** 2):\n",
    "    print(\"Se cumple el teorema de pitagoras\")\n",
    "else:\n",
    "    print(\"No se cumple el teorema de pitagoras\")"
   ]
  },
  {
   "cell_type": "markdown",
   "metadata": {},
   "source": [
    "EJERCICIO 10\n",
    "Asignar una calificación a una puntuación\n",
    "Descripción: Dada una puntuación, asigna una calificación según las siguientes condiciones: si la puntuación es mayor o igual a 90, la calificación es \"A\"; si es mayor o igual a 80, la calificación es \"B\"; si es mayor o igual a 70, la calificación es \"C\"; si es mayor o igual a 60, la calificación es \"D\"; de lo contrario, la calificación es \"F\"."
   ]
  },
  {
   "cell_type": "code",
   "execution_count": 36,
   "metadata": {},
   "outputs": [
    {
     "name": "stdout",
     "output_type": "stream",
     "text": [
      "Tu calificacion es: F\n"
     ]
    }
   ],
   "source": [
    "puntuacion = int(input(\"Introduce aqui tu puntuacion:\"))\n",
    "sobresaliente = \"A\"\n",
    "notable = \"B\"\n",
    "notable_bajo = \"C\"\n",
    "suficiente = \"D\"\n",
    "suspenso = \"F\"\n",
    "if puntuacion >= 90:\n",
    "    print(\"Tu calificacion es:\", sobresaliente)\n",
    "elif puntuacion >= 80:\n",
    "    print(\"Tu calificacion es:\", notable)\n",
    "elif puntuacion >= 70:\n",
    "    print(\"Tu calificacion es:\", notable_bajo)\n",
    "elif puntuacion >= 60:\n",
    "    print(\"Tu calificacion es:\", suficiente)\n",
    "else:\n",
    "    print(\"Tu calificacion es:\", suspenso)"
   ]
  },
  {
   "cell_type": "markdown",
   "metadata": {},
   "source": [
    "EJERCICIO 11\n",
    "Calcular el índice de masa corporal (IMC) y categorizarlo\n",
    "Descripción: Dados el peso (en kg) y la altura (en metros) de una persona, calcula su IMC y categorízalo según las siguientes condiciones: si el IMC es menor a 18.5, es \"Bajo peso\"; si está entre 18.5 y 24.9 (inclusive), es \"Peso normal\"; si está entre 25 y 29.9 (inclusive), es \"Sobrepeso\"; de lo contrario, es \"Obesidad\"."
   ]
  },
  {
   "cell_type": "code",
   "execution_count": 38,
   "metadata": {},
   "outputs": [
    {
     "name": "stdout",
     "output_type": "stream",
     "text": [
      "Bajo peso.\n"
     ]
    }
   ],
   "source": [
    "peso = float(input(\"Introduce tu peso en kg\"))\n",
    "altura = float(input(\"Introduce tu altura en metros\"))\n",
    "imc = peso / (altura ** 2)\n",
    "if imc < 18.5:\n",
    "    print(\"Bajo peso.\")\n",
    "elif 18.5 <= imc <= 24.9:\n",
    "    print(\"Peso normal.\")\n",
    "elif 25 <= imc <= 29.9:\n",
    "    print(\"Sobrepeso.\")\n",
    "else:\n",
    "    print(\"Obesidad.\")"
   ]
  },
  {
   "cell_type": "markdown",
   "metadata": {},
   "source": [
    "EJERCICIO 12\n",
    "Calcular el mayor de tres números\n",
    "Descripción: Dados tres números, encuentra el mayor entre ellos."
   ]
  },
  {
   "cell_type": "code",
   "execution_count": 44,
   "metadata": {},
   "outputs": [
    {
     "name": "stdout",
     "output_type": "stream",
     "text": [
      "808 es el mayor de los 3 numeros.\n"
     ]
    }
   ],
   "source": [
    "number1 = 808\n",
    "number2 = 87\n",
    "number3 = 9\n",
    "if number1 > (number2 and number3):\n",
    "    print(number1, \"es el mayor de los 3 numeros.\")\n",
    "elif number2 > (number1 and number3):\n",
    "    print(number2, \"es el mayor de los 3 numeros.\")\n",
    "else:\n",
    "    print(number3, \"es el mayor de los 3 numeros.\")"
   ]
  },
  {
   "cell_type": "markdown",
   "metadata": {},
   "source": [
    "EJERCICIO 13\n",
    "BONUS sentencias de control: Verificar la validez de una fecha\n",
    "Descripción: Dados el día, el mes y el año de una fecha, verifica si la fecha es válida."
   ]
  },
  {
   "cell_type": "code",
   "execution_count": 48,
   "metadata": {},
   "outputs": [
    {
     "name": "stdout",
     "output_type": "stream",
     "text": [
      "Esta fecha no es valida.\n"
     ]
    }
   ],
   "source": [
    "day =int(input(\"Dime un numero de uno o dos digitos.\"))\n",
    "month= int(input(\"Dime otro numero de uno o dos digitos.\"))\n",
    "year = int(input(\"Dime un numero de cuatro digitos.\"))\n",
    "month_30 = [4,6,9,11]\n",
    "month_31 = [1,3,5,7,8,10,12]\n",
    "\n",
    "if month == 2 and day <=29:\n",
    "    print(\"La fecha dada es:\", day, month, year)\n",
    "    print(\"Esta fecha es valida.\")\n",
    "elif month in month_30 and day <=30:\n",
    "    print(\"La fecha dada es:\", day, month, year)\n",
    "    print(\"Esta fecha es valida.\")\n",
    "elif month in month_31 and day <=31:\n",
    "    print(\"La fecha dada es:\", day, month, year)\n",
    "    print(\"Esta fecha es valida.\")\n",
    "else:\n",
    "    print(\"Esta fecha no es valida.\")"
   ]
  },
  {
   "cell_type": "markdown",
   "metadata": {},
   "source": [
    "EJERCICIOS WHILE"
   ]
  },
  {
   "cell_type": "markdown",
   "metadata": {},
   "source": [
    "EJERCICIO 1\n",
    "Calcular la suma de los primeros 10 números naturales utilizando un bucle while\n",
    "Descripción: Utiliza un bucle while para calcular la suma de los primeros 10 números naturales (1 + 2 + 3 + ... + 10)."
   ]
  },
  {
   "cell_type": "code",
   "execution_count": 19,
   "metadata": {},
   "outputs": [
    {
     "name": "stdout",
     "output_type": "stream",
     "text": [
      "1\n",
      "3\n",
      "6\n",
      "10\n",
      "15\n",
      "21\n",
      "28\n",
      "36\n",
      "45\n",
      "55\n"
     ]
    }
   ],
   "source": [
    "numero = 1\n",
    "suma_total = 0\n",
    "\n",
    "while numero <= 10: # establecemos 10 como nuestro limite porque queremos calcular la suma de los 10 primeros numeros\n",
    "    suma_total += numero\n",
    "    numero += 1 # aumentamos el valor de numero en 1 cada vez que se ejecuta el bucle para que no se ejecute de manera infinita\n",
    "    print(suma_total)"
   ]
  },
  {
   "cell_type": "markdown",
   "metadata": {},
   "source": [
    "EJERCICIO 2\n",
    "Juego de adivinanza utilizando un bucle while\n",
    "Descripción: Crea un juego de adivinanza en el que el jugador tiene que adivinar un número secreto (tendrá que ser entre el 0 y el 10). Utiliza un bucle while para permitir múltiples intentos hasta que el jugador adivine correctamente.\n"
   ]
  },
  {
   "cell_type": "code",
   "execution_count": 3,
   "metadata": {},
   "outputs": [
    {
     "name": "stdout",
     "output_type": "stream",
     "text": [
      "Has fallado, intentalo otra vez.\n",
      "Has fallado, intentalo otra vez.\n",
      "Has fallado, intentalo otra vez.\n",
      "Has fallado, intentalo otra vez.\n",
      "Has fallado, intentalo otra vez.\n",
      "Correcto, has acertado!\n"
     ]
    }
   ],
   "source": [
    "while True:\n",
    "    num_secreto = 5\n",
    "    adivina = int(input(\"Adivina un numero de 0 a 10\"))\n",
    "    if adivina != num_secreto:\n",
    "        print(\"Has fallado, intentalo otra vez.\")\n",
    "    else:\n",
    "        print(\"Correcto, has acertado!\")\n",
    "        break"
   ]
  }
 ],
 "metadata": {
  "kernelspec": {
   "display_name": "base",
   "language": "python",
   "name": "python3"
  },
  "language_info": {
   "codemirror_mode": {
    "name": "ipython",
    "version": 3
   },
   "file_extension": ".py",
   "mimetype": "text/x-python",
   "name": "python",
   "nbconvert_exporter": "python",
   "pygments_lexer": "ipython3",
   "version": "3.12.4"
  }
 },
 "nbformat": 4,
 "nbformat_minor": 2
}
