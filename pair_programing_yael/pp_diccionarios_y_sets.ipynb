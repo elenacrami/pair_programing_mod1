{
 "cells": [
  {
   "cell_type": "markdown",
   "metadata": {},
   "source": [
    "EJERCICIOS DICCIONARIOS"
   ]
  },
  {
   "cell_type": "markdown",
   "metadata": {},
   "source": [
    "EJERCICIO 1\n",
    "Crear un diccionario vacío\n",
    "Descripción: Crea un diccionario vacío sin ningún par clave-valor."
   ]
  },
  {
   "cell_type": "code",
   "execution_count": 1,
   "metadata": {},
   "outputs": [
    {
     "name": "stdout",
     "output_type": "stream",
     "text": [
      "{}\n"
     ]
    }
   ],
   "source": [
    "diccionario = {}\n",
    "print(diccionario)"
   ]
  },
  {
   "cell_type": "markdown",
   "metadata": {},
   "source": [
    "EJERCICIO 2\n",
    "Crear un diccionario con elementos\n",
    "Descripción: Crea un diccionario con pares clave-valor predefinidos. Definir el diccionario con las claves y valores que querais. NOTA El diccionario debe tener al menos 5 pares de clave:valor."
   ]
  },
  {
   "cell_type": "code",
   "execution_count": 2,
   "metadata": {},
   "outputs": [
    {
     "name": "stdout",
     "output_type": "stream",
     "text": [
      "{'nombres': 'Elena', 'color': 'azul', 'tamaño': 'grande', 'fruta': 'manzana', 'ciudad': 'Madrid'}\n"
     ]
    }
   ],
   "source": [
    "diccionario_2 = {\"nombres\" : \"Elena\", \n",
    "                 \"color\" : \"azul\",\n",
    "                 \"tamaño\" : \"grande\",\n",
    "                 \"fruta\" : \"manzana\",\n",
    "                 \"ciudad\" : \"Madrid\"}\n",
    "print(diccionario_2)"
   ]
  },
  {
   "cell_type": "markdown",
   "metadata": {},
   "source": [
    "EJERCICIO 3\n",
    "Acceder al valor de una clave en un diccionario\n",
    "Descripción: Usando el diccionario creado en el paso anterior, obtén el valor correspondiente a una clave específica que indique el usuario (debereis usar la función input() para preguntar al usuario)."
   ]
  },
  {
   "cell_type": "code",
   "execution_count": 3,
   "metadata": {},
   "outputs": [
    {
     "name": "stdout",
     "output_type": "stream",
     "text": [
      "manzana\n"
     ]
    }
   ],
   "source": [
    "clave = input(\"Introduce la clave que deseas buscar\")\n",
    "valor = diccionario_2.get(clave, \"clave no encontrada\")\n",
    "print(valor)"
   ]
  },
  {
   "cell_type": "markdown",
   "metadata": {},
   "source": [
    "EJERCICIO 4\n",
    "Agregar un nuevo par clave-valor a un diccionario\n",
    "Descripción: Usando el diccionario creado en el ejercicio 2, agrega un nuevo par clave-valor."
   ]
  },
  {
   "cell_type": "code",
   "execution_count": 4,
   "metadata": {},
   "outputs": [
    {
     "name": "stdout",
     "output_type": "stream",
     "text": [
      "{'nombres': 'Elena', 'color': 'azul', 'tamaño': 'grande', 'fruta': 'manzana', 'ciudad': 'Madrid', 'rio': 'ebro'}\n"
     ]
    }
   ],
   "source": [
    "nueva_entrada = {\"rio\" : \"ebro\"}\n",
    "diccionario_2.update(nueva_entrada)\n",
    "print(diccionario_2)\n"
   ]
  },
  {
   "cell_type": "markdown",
   "metadata": {},
   "source": [
    "EJERCICIO 5\n",
    "Actualizar el valor de una clave en un diccionario\n",
    "Descripción: Usando el diccionario creado en el ejercicio 2, actualiza el valor correspondiente a una clave existente. Ejemplo:\n",
    "# dado el siguiente diccionario\n",
    "{'nombre': 'Ana', 'edad': 25, 'ciudad': 'Madrid', 'hijos': 1}\n",
    "\n",
    "# el ouptut esperado es: (ha cambiado el valor de la clave edad)\n",
    "{'nombre': 'Ana', 'edad': 40, 'ciudad': 'Madrid', 'hijos': 1}"
   ]
  },
  {
   "cell_type": "code",
   "execution_count": 5,
   "metadata": {},
   "outputs": [
    {
     "name": "stdout",
     "output_type": "stream",
     "text": [
      "El diccionario actualizado es: {'nombres': 'Elena', 'color': 'azul', 'tamaño': 'grande', 'fruta': 'manzana', 'ciudad': 'Madrid', 'rio': 'sena'}\n"
     ]
    }
   ],
   "source": [
    "cambio_diccionario_2 = {\"rio\" : \"sena\"}\n",
    "diccionario_2.update(cambio_diccionario_2)\n",
    "print(\"El diccionario actualizado es:\", diccionario_2)"
   ]
  },
  {
   "cell_type": "markdown",
   "metadata": {},
   "source": [
    "EJERCICIO 6\n",
    "Eliminar un par clave-valor de un diccionario\n",
    "Descripción: Usando el diccionario creado en el ejercicio 2, elimina un par clave-valor específico que indique el usuario (debereis usar la función input() para preguntar al usuario)."
   ]
  },
  {
   "cell_type": "code",
   "execution_count": 6,
   "metadata": {},
   "outputs": [
    {
     "name": "stdout",
     "output_type": "stream",
     "text": [
      "Se ha eliminado correctamente tu clave-valor {'color': 'azul', 'tamaño': 'grande', 'fruta': 'manzana', 'ciudad': 'Madrid', 'rio': 'sena'}\n"
     ]
    }
   ],
   "source": [
    "clave_a_eliminar = input(\"Introduce la clave que deseas eliminar\")\n",
    "eliminar = diccionario_2.pop(clave_a_eliminar, \"clave no encontrada\")\n",
    "print(\"Se ha eliminado correctamente tu clave-valor\", diccionario_2)"
   ]
  },
  {
   "cell_type": "markdown",
   "metadata": {},
   "source": [
    "EJERCICIO 7\n",
    "Verificar si una clave está presente en un diccionario\n",
    "Descripción: Usando el diccionario creado en el ejercicio 2, verifica si una clave específica está presente en él. La clave a buscar debe ser pasada por el usuario, debereis usar un input()."
   ]
  },
  {
   "cell_type": "code",
   "execution_count": 7,
   "metadata": {},
   "outputs": [
    {
     "name": "stdout",
     "output_type": "stream",
     "text": [
      "La respuesta si tu clave ha sido encontrada es: True\n"
     ]
    }
   ],
   "source": [
    "ingresa_clave = input(\"Introduce la clave que deseas buscar:\")\n",
    "verificacion = ingresa_clave in diccionario_2\n",
    "print(\"La respuesta si tu clave ha sido encontrada es:\", verificacion)"
   ]
  },
  {
   "cell_type": "markdown",
   "metadata": {},
   "source": [
    "EJERCICIO 8\n",
    "Obtener una lista de todas las claves de un diccionario\n",
    "Descripción: Usando el diccionario creado en el ejercicio 2, obtén una lista con todas las claves que contiene."
   ]
  },
  {
   "cell_type": "code",
   "execution_count": 8,
   "metadata": {},
   "outputs": [
    {
     "name": "stdout",
     "output_type": "stream",
     "text": [
      "['color', 'tamaño', 'fruta', 'ciudad', 'rio']\n",
      "<class 'list'>\n"
     ]
    }
   ],
   "source": [
    "diccionario_2.keys()\n",
    "lista_diccionario_2 = list(diccionario_2.keys())\n",
    "print(lista_diccionario_2)\n",
    "print(type(lista_diccionario_2))"
   ]
  },
  {
   "cell_type": "markdown",
   "metadata": {},
   "source": [
    "EJERCICIO 9\n",
    "Obtener una lista de todos los valores de un diccionario\n",
    "Descripción: Usando el diccionario creado en el ejercicio 2, obtén una lista con todos los valores que contiene."
   ]
  },
  {
   "cell_type": "code",
   "execution_count": 10,
   "metadata": {},
   "outputs": [
    {
     "name": "stdout",
     "output_type": "stream",
     "text": [
      "['azul', 'grande', 'manzana', 'Madrid', 'sena']\n",
      "<class 'list'>\n"
     ]
    }
   ],
   "source": [
    "diccionario_2.values()\n",
    "lista_diccionario_2 = list(diccionario_2.values())\n",
    "print(lista_diccionario_2)\n",
    "print(type(lista_diccionario_2))"
   ]
  },
  {
   "cell_type": "markdown",
   "metadata": {},
   "source": [
    "EJERCICIO 10\n",
    "Utilizar el método setdefault() para establecer un valor predeterminado si la clave no existe\n",
    "Descripción: Usando el diccionario creado en el ejercicio 2, obten el valor correspondiente a una clave. Si la clave no existe, establece un valor predeterminado y devuelve dicho valor."
   ]
  },
  {
   "cell_type": "code",
   "execution_count": 11,
   "metadata": {},
   "outputs": [
    {
     "name": "stdout",
     "output_type": "stream",
     "text": [
      "None\n",
      "No existe\n"
     ]
    }
   ],
   "source": [
    "clave_no_existe = diccionario_2.get(\"zapatos\")\n",
    "print(clave_no_existe)\n",
    "respuesta_elegida = diccionario_2.setdefault(\"zapatos\",\"No existe\")\n",
    "print(respuesta_elegida)"
   ]
  },
  {
   "cell_type": "markdown",
   "metadata": {},
   "source": [
    "EJERCICIO 11\n",
    "Manipulación de un diccionario utilizando pop() y popitem()\n",
    "Descripción: Usando el diccionario creado en el ejercicio 2, realiza operaciones de eliminación utilizando pop() y popitem(), y observa cómo afectan al diccionario."
   ]
  },
  {
   "cell_type": "code",
   "execution_count": 12,
   "metadata": {},
   "outputs": [
    {
     "name": "stdout",
     "output_type": "stream",
     "text": [
      "Copia del diccionario2: {'color': 'azul', 'tamaño': 'grande', 'fruta': 'manzana', 'ciudad': 'Madrid', 'rio': 'sena', 'zapatos': 'No existe'}\n",
      "Diccionario copia excluyendo la segunda clave-valor: {'tamaño': 'grande', 'fruta': 'manzana', 'ciudad': 'Madrid', 'rio': 'sena', 'zapatos': 'No existe'}\n"
     ]
    }
   ],
   "source": [
    "copia_diccionario_2 = diccionario_2.copy()\n",
    "print(\"Copia del diccionario2:\", copia_diccionario_2)\n",
    "copia_diccionario_2.pop('color')\n",
    "print(\"Diccionario copia excluyendo la segunda clave-valor:\", copia_diccionario_2)"
   ]
  },
  {
   "cell_type": "code",
   "execution_count": 13,
   "metadata": {},
   "outputs": [
    {
     "name": "stdout",
     "output_type": "stream",
     "text": [
      "Diccionario copia excluyendo ultimo elemento: {'tamaño': 'grande', 'fruta': 'manzana', 'ciudad': 'Madrid', 'rio': 'sena'}\n"
     ]
    }
   ],
   "source": [
    "copia_diccionario_2.popitem()\n",
    "print(\"Diccionario copia excluyendo ultimo elemento:\", copia_diccionario_2)"
   ]
  },
  {
   "cell_type": "markdown",
   "metadata": {},
   "source": [
    "EJERCICIOS SETS"
   ]
  },
  {
   "cell_type": "markdown",
   "metadata": {},
   "source": [
    "EJERCICIO 1\n",
    "Crear un conjunto vacío\n",
    "Descripción: Crea un conjunto vacío sin ningún elemento."
   ]
  },
  {
   "cell_type": "code",
   "execution_count": 29,
   "metadata": {},
   "outputs": [
    {
     "name": "stdout",
     "output_type": "stream",
     "text": [
      "<class 'set'>\n"
     ]
    }
   ],
   "source": [
    "set_1 = {\"\"}\n",
    "print(type(set_1))"
   ]
  },
  {
   "cell_type": "markdown",
   "metadata": {},
   "source": [
    "EJERCICIO 2\n",
    "Crear un conjunto con elementos\n",
    "Descripción: Crea un conjunto con elementos predefinidos."
   ]
  },
  {
   "cell_type": "code",
   "execution_count": 30,
   "metadata": {},
   "outputs": [
    {
     "name": "stdout",
     "output_type": "stream",
     "text": [
      "{'España', 'Portugal', 'Malta', 'Chipre', 'Italia', 'Francia'}\n",
      "<class 'set'>\n"
     ]
    }
   ],
   "source": [
    "set_2 = {\"España\", \"Italia\", \"Portugal\", \"Francia\", \"Malta\", \"Chipre\"}\n",
    "print(set_2)\n",
    "print(type(set_2))"
   ]
  },
  {
   "cell_type": "markdown",
   "metadata": {},
   "source": [
    "EJERCICIO 3\n",
    "Agregar elementos a un conjunto\n",
    "Descripción: Usando el set creado en el ejercicio 2, agrega nuevos elementos. Debereis agregar por separado:\n",
    "Un elemento solo\n",
    "Un par de elementos a la vez."
   ]
  },
  {
   "cell_type": "code",
   "execution_count": 32,
   "metadata": {},
   "outputs": [
    {
     "name": "stdout",
     "output_type": "stream",
     "text": [
      "None\n",
      "None\n"
     ]
    }
   ],
   "source": [
    "set_anadido1 = set_2.add(\"Grecia\")\n",
    "print(set_anadido1)\n",
    "\n",
    "actualizacion = [\"Austria\", \"Hungria\"]\n",
    "set_anadido2 = set_2.update(actualizacion)\n",
    "print(set_anadido2)"
   ]
  },
  {
   "cell_type": "markdown",
   "metadata": {},
   "source": [
    "EJERCICIO 4\n",
    "Eliminar un elemento de un conjunto\n",
    "Descripción: Usando el set creado en el ejercicio 2, elimina un elemento especificado por el usuario."
   ]
  },
  {
   "cell_type": "code",
   "execution_count": 40,
   "metadata": {},
   "outputs": [
    {
     "name": "stdout",
     "output_type": "stream",
     "text": [
      "El set original incluye: {'España', 'Austria', 'Italia', 'Portugal', 'Malta', 'Grecia', 'Hungria', 'Francia'}\n",
      "El nuevo set incluye: None\n"
     ]
    }
   ],
   "source": [
    "print(\"El set original incluye:\", set_2)\n",
    "set_2_elemento_eliminado = input(\"Introduce el elemento que deseas eliminar\")\n",
    "print(\"El nuevo set incluye:\", set_2.remove(set_2_elemento_eliminado))"
   ]
  },
  {
   "cell_type": "markdown",
   "metadata": {},
   "source": [
    "EJERCICIO 5\n",
    "Verificar la pertenencia de un elemento en un conjunto\n",
    "Descripción: Usando el set creado en el ejercicio 2, verifica si un elemento específico está presente en él."
   ]
  },
  {
   "cell_type": "code",
   "execution_count": 52,
   "metadata": {},
   "outputs": [
    {
     "name": "stdout",
     "output_type": "stream",
     "text": [
      "Esta Finlandia en el set?: False\n"
     ]
    }
   ],
   "source": [
    "\"Finlandia\" in set_2\n",
    "print(\"Esta Finlandia en el set?:\", \"Finlandia\" in set_2)"
   ]
  },
  {
   "cell_type": "markdown",
   "metadata": {},
   "source": [
    "EJERCICIO 6\n",
    "Realizar una unión de conjuntos\n",
    "Descripción: Dados dos conjuntos, realiza una unión de ellos."
   ]
  },
  {
   "cell_type": "code",
   "execution_count": 35,
   "metadata": {},
   "outputs": [
    {
     "name": "stdout",
     "output_type": "stream",
     "text": [
      "El conjunto 1 contiene los siguientes elementos: {'Irlanda', 'Madrid', 'Inglaterra', 'Alemania', 'Escocia'}\n",
      "El conjunto 2 contiene los siguientes elementos: {'Edimburgo', 'Madrid', 'Londres', 'Alemania', 'Berlin', 'Dublin'}\n",
      "Todos los elementos de la union de conjuntos: {'Edimburgo', 'Londres', 'Dublin', 'Irlanda', 'Madrid', 'Inglaterra', 'Berlin', 'Alemania', 'Escocia'}\n"
     ]
    }
   ],
   "source": [
    "conjunto1 = {\"Alemania\", \"Inglaterra\", \"Escocia\", \"Irlanda\", \"Madrid\"}\n",
    "conjunto2 = {\"Berlin\", \"Londres\", \"Edimburgo\", \"Dublin\", \"Alemania\", \"Madrid\"}\n",
    "print(\"El conjunto 1 contiene los siguientes elementos:\", conjunto1)\n",
    "print(\"El conjunto 2 contiene los siguientes elementos:\", conjunto2)\n",
    "union_conjuntos = conjunto1.union(conjunto2)\n",
    "print(\"Todos los elementos de la union de conjuntos:\", union_conjuntos)"
   ]
  },
  {
   "cell_type": "markdown",
   "metadata": {},
   "source": [
    "EJERCICIO 7\n",
    "Realizar una intersección de conjuntos\n",
    "Descripción: Usando dos conjuntos de datos definidos en el ejercicio anterior, realiza una intersección de ellos.\n"
   ]
  },
  {
   "cell_type": "code",
   "execution_count": 36,
   "metadata": {},
   "outputs": [
    {
     "name": "stdout",
     "output_type": "stream",
     "text": [
      "El conjunto 1 contiene los siguientes elementos: {'Irlanda', 'Madrid', 'Inglaterra', 'Alemania', 'Escocia'}\n",
      "El conjunto 2 contiene los siguientes elementos: {'Edimburgo', 'Madrid', 'Londres', 'Alemania', 'Berlin', 'Dublin'}\n",
      "Estos son los elementos que tienen en comun ambos conjuntos: {'Alemania', 'Madrid'}\n"
     ]
    }
   ],
   "source": [
    "conjunto1 = {\"Alemania\", \"Inglaterra\", \"Escocia\", \"Irlanda\", \"Madrid\"}\n",
    "conjunto2 = {\"Berlin\", \"Londres\", \"Edimburgo\", \"Dublin\", \"Alemania\", \"Madrid\"}\n",
    "print(\"El conjunto 1 contiene los siguientes elementos:\", conjunto1)\n",
    "print(\"El conjunto 2 contiene los siguientes elementos:\", conjunto2)\n",
    "interseccion_conjuntos = conjunto1.intersection(conjunto2)\n",
    "print(\"Estos son los elementos que tienen en comun ambos conjuntos:\", interseccion_conjuntos)"
   ]
  },
  {
   "cell_type": "markdown",
   "metadata": {},
   "source": [
    "EJERCICIO 8\n",
    "Realizar una diferencia de conjuntos\n",
    "Descripción: Usando dos conjuntos de datos definidos en el ejercicio anterior, realiza una diferencia entre ellos."
   ]
  },
  {
   "cell_type": "code",
   "execution_count": 38,
   "metadata": {},
   "outputs": [
    {
     "name": "stdout",
     "output_type": "stream",
     "text": [
      "El conjunto 1 contiene los siguientes elementos: {'Irlanda', 'Madrid', 'Inglaterra', 'Alemania', 'Escocia'}\n",
      "El conjunto 2 contiene los siguientes elementos: {'Edimburgo', 'Madrid', 'Londres', 'Alemania', 'Berlin', 'Dublin'}\n",
      "Los elementos que estan en el conjunto 1 pero no en el conjunto 2 son: {'Irlanda', 'Inglaterra', 'Escocia'}\n"
     ]
    }
   ],
   "source": [
    "conjunto1 = {\"Alemania\", \"Inglaterra\", \"Escocia\", \"Irlanda\", \"Madrid\"}\n",
    "conjunto2 = {\"Berlin\", \"Londres\", \"Edimburgo\", \"Dublin\", \"Alemania\", \"Madrid\"}\n",
    "print(\"El conjunto 1 contiene los siguientes elementos:\", conjunto1)\n",
    "print(\"El conjunto 2 contiene los siguientes elementos:\", conjunto2)\n",
    "diferencia_conjuntos = conjunto1.difference(conjunto2)\n",
    "print(\"Los elementos que estan en el conjunto 1 pero no en el conjunto 2 son:\", diferencia_conjuntos)"
   ]
  },
  {
   "cell_type": "markdown",
   "metadata": {},
   "source": [
    "EJERCICIO 9\n",
    "Verificar si un conjunto es subconjunto de otro\n",
    "Descripción: Dados dos conjuntos, verifica si uno es subconjunto del otro."
   ]
  },
  {
   "cell_type": "code",
   "execution_count": 39,
   "metadata": {},
   "outputs": [
    {
     "name": "stdout",
     "output_type": "stream",
     "text": [
      "El conjunto 1 contiene los siguientes elementos: {'Irlanda', 'Madrid', 'Inglaterra', 'Alemania', 'Escocia'}\n",
      "El conjunto 2 contiene los siguientes elementos: {'Edimburgo', 'Madrid', 'Londres', 'Alemania', 'Berlin', 'Dublin'}\n",
      "¿Están todos los elementos del conjunto1 en el conjunto2? False\n"
     ]
    }
   ],
   "source": [
    "conjunto1 = {\"Alemania\", \"Inglaterra\", \"Escocia\", \"Irlanda\", \"Madrid\"}\n",
    "conjunto2 = {\"Berlin\", \"Londres\", \"Edimburgo\", \"Dublin\", \"Alemania\", \"Madrid\"}\n",
    "print(\"El conjunto 1 contiene los siguientes elementos:\", conjunto1)\n",
    "print(\"El conjunto 2 contiene los siguientes elementos:\", conjunto2)\n",
    "set_issubset = conjunto1.issubset(conjunto2)\n",
    "print(\"¿Están todos los elementos del conjunto1 en el conjunto2?\", set_issubset)"
   ]
  }
 ],
 "metadata": {
  "kernelspec": {
   "display_name": "base",
   "language": "python",
   "name": "python3"
  },
  "language_info": {
   "codemirror_mode": {
    "name": "ipython",
    "version": 3
   },
   "file_extension": ".py",
   "mimetype": "text/x-python",
   "name": "python",
   "nbconvert_exporter": "python",
   "pygments_lexer": "ipython3",
   "version": "3.12.4"
  }
 },
 "nbformat": 4,
 "nbformat_minor": 2
}
