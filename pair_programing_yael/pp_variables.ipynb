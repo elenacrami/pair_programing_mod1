{
 "cells": [
  {
   "cell_type": "markdown",
   "metadata": {},
   "source": [
    "Cread tres variables numéricas de tipo integer (entero), llamadas de la siguiente forma:"
   ]
  },
  {
   "cell_type": "code",
   "execution_count": 2,
   "metadata": {},
   "outputs": [
    {
     "name": "stdout",
     "output_type": "stream",
     "text": [
      "15\n",
      "10\n",
      "5\n"
     ]
    }
   ],
   "source": [
    "numero1 = int(15)\n",
    "numero2 = int(10)\n",
    "numero3 = int(5)\n",
    "print(numero1)\n",
    "print(numero2)\n",
    "print(numero3)"
   ]
  },
  {
   "cell_type": "markdown",
   "metadata": {},
   "source": [
    "Utilizando los operadores lógicos:\n",
    "En vuestro caso, es el numero1 mayor que el numero2\n",
    "\n",
    "Es el numero1 menor que el numero2 pero mayor que el numero3\n",
    "\n",
    "Es el numero3 igual que el numero2\n",
    "\n",
    "Es el numero2 distinto que el numero1"
   ]
  },
  {
   "cell_type": "code",
   "execution_count": 3,
   "metadata": {},
   "outputs": [
    {
     "name": "stdout",
     "output_type": "stream",
     "text": [
      "True\n",
      "False\n",
      "False\n",
      "True\n"
     ]
    }
   ],
   "source": [
    "print(numero1>numero2)\n",
    "print(numero1<numero2 \n",
    "    and numero1>numero3)\n",
    "print(numero3==numero2)\n",
    "print(numero2!=numero1)\n"
   ]
  },
  {
   "cell_type": "markdown",
   "metadata": {},
   "source": [
    "Cread dos variables numéricas de tipo float (decimal) con dos decimales, llamdas de la siguiente forma:\n",
    "Utilizando los operadores matemáticos aprendidos en la lección:\n",
    "\n",
    "Cuál es la suma de las dos alturas\n",
    "\n",
    "Cuál es la diferencia entre las alturas\n",
    "\n",
    "Cuál es el resto de la división de las dos alturas\n",
    "\n",
    "Cuál es resultado de la división de las dos alturas, redondead el resultado a un decimal."
   ]
  },
  {
   "cell_type": "code",
   "execution_count": 4,
   "metadata": {},
   "outputs": [
    {
     "name": "stdout",
     "output_type": "stream",
     "text": [
      "16.0\n",
      "La diferencia entre la altura 1 y 2 es:  5.0\n",
      "El resto entre la altura 1 y 2 es:  5.0\n",
      "2.0\n"
     ]
    }
   ],
   "source": [
    "altura1 = float(10.50)\n",
    "altura2 = float(5.50)\n",
    "print(altura1+altura2)\n",
    "print(\"La diferencia entre la altura 1 y 2 es: \",altura1-altura2)\n",
    "division = altura1/altura2\n",
    "print(\"El resto entre la altura 1 y 2 es: \",altura1%altura2)\n",
    "division_redondeada = round(division,0)\n",
    "print(division_redondeada)"
   ]
  },
  {
   "cell_type": "markdown",
   "metadata": {},
   "source": [
    "Escribid un programa usando la función input() que le pregunte al usuario su nombre y apellidos. Una vez que tengamos el nombre del usuario:\n",
    "\n",
    "Printead su nombre y apellidos todo en mayúsculas\n",
    "\n",
    "Printead su nombre y apellidos todo en minúsculas\n",
    "\n",
    "Printead su nombre y apellidos con la primera letra del nombre y los apellidos en mayúscula y el resto en minúscula.\n",
    "\n",
    "Printeas solo la primera letra del nombre en mayúscula.\n"
   ]
  },
  {
   "cell_type": "code",
   "execution_count": 5,
   "metadata": {},
   "outputs": [
    {
     "name": "stdout",
     "output_type": "stream",
     "text": [
      "elena craven minarro\n"
     ]
    }
   ],
   "source": [
    "entrada_usuario = input(\"Introduzca su nombre y apellidos:\")\n",
    "print(entrada_usuario)"
   ]
  },
  {
   "cell_type": "code",
   "execution_count": 6,
   "metadata": {},
   "outputs": [
    {
     "name": "stdout",
     "output_type": "stream",
     "text": [
      "ELENA CRAVEN MINARRO\n",
      "elena craven minarro\n",
      "Elena Craven Minarro\n",
      "Elena craven minarro\n"
     ]
    }
   ],
   "source": [
    "print(entrada_usuario.upper())\n",
    "print(entrada_usuario.lower())\n",
    "print(entrada_usuario.title())\n",
    "print(entrada_usuario.capitalize())\n"
   ]
  },
  {
   "cell_type": "markdown",
   "metadata": {},
   "source": [
    "Escribid un programa usando la función input() que:\n",
    "\n",
    "Le pregunte al usuario por una frase, almacenad este resultado en una variable.\n",
    "\n",
    "Le pregunte al usuario por una vocal, almacenad este resultado en una variable.\n",
    "\n",
    "Printead la misma frase pero con la vocal introducida en mayúsulas."
   ]
  },
  {
   "cell_type": "code",
   "execution_count": 9,
   "metadata": {},
   "outputs": [
    {
     "name": "stdout",
     "output_type": "stream",
     "text": [
      "hola caracola pepsicola\n",
      "o\n",
      "hOla caracOla pepsicOla\n"
     ]
    }
   ],
   "source": [
    "frase_usuario = input(\"Introduza una frase: \")\n",
    "print(frase_usuario)\n",
    "vocal_usuario = input(\"Introduzca una vocal:\")\n",
    "print(vocal_usuario)\n",
    "respuesta = frase_usuario.replace(vocal_usuario,vocal_usuario.upper())\n",
    "print(respuesta)"
   ]
  },
  {
   "cell_type": "markdown",
   "metadata": {},
   "source": [
    "Escribid un programa usando la función input() que:\n",
    "\n",
    "Le pregunte al usuario por la lista de la compra, separando cada elemento por comas."
   ]
  },
  {
   "cell_type": "code",
   "execution_count": 8,
   "metadata": {},
   "outputs": [
    {
     "data": {
      "text/plain": [
       "['peras', 'manzanas', 'naranjas']"
      ]
     },
     "execution_count": 8,
     "metadata": {},
     "output_type": "execute_result"
    }
   ],
   "source": [
    "lista_compra = input(\"Escribe la lista de la compra\")\n",
    "lista_compra_separada = lista_compra.split(\",\")\n",
    "lista_compra_separada "
   ]
  },
  {
   "cell_type": "markdown",
   "metadata": {},
   "source": [
    "Devolved la lista de compra donde veamos cada elemento en una línea.\n",
    "\n",
    "💡Pista\n",
    "\n",
    "Para indicar salto de línea usaremos \"\\n\".\n",
    "\n",
    "Deberéis usar el método join de los strings"
   ]
  },
  {
   "cell_type": "code",
   "execution_count": 10,
   "metadata": {},
   "outputs": [
    {
     "name": "stdout",
     "output_type": "stream",
     "text": [
      "peras\n",
      "manzanas\n",
      "naranjas\n"
     ]
    }
   ],
   "source": [
    "lista_compra_separada2 = \"\\n\".join(lista_compra_separada)\n",
    "print(lista_compra_separada2)"
   ]
  }
 ],
 "metadata": {
  "kernelspec": {
   "display_name": "base",
   "language": "python",
   "name": "python3"
  },
  "language_info": {
   "codemirror_mode": {
    "name": "ipython",
    "version": 3
   },
   "file_extension": ".py",
   "mimetype": "text/x-python",
   "name": "python",
   "nbconvert_exporter": "python",
   "pygments_lexer": "ipython3",
   "version": "3.12.4"
  }
 },
 "nbformat": 4,
 "nbformat_minor": 2
}
