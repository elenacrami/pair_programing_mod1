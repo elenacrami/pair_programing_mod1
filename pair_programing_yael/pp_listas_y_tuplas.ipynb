{
 "cells": [
  {
   "cell_type": "markdown",
   "metadata": {},
   "source": [
    "EJERCICIOS LISTAS"
   ]
  },
  {
   "cell_type": "code",
   "execution_count": 4,
   "metadata": {},
   "outputs": [
    {
     "name": "stdout",
     "output_type": "stream",
     "text": [
      "[2, 4, 6, 8, 2, 4, 6, 8]\n"
     ]
    }
   ],
   "source": [
    "# EJERCICIO 1\n",
    "# DUPLICAR ELEMENTOS DE UNA LISTA\n",
    "# dada la siguiente lista el output esperado es:\n",
    "lista = [2, 4, 6, 8]\n",
    "[2, 4, 6, 8, 2, 4, 6, 8]\n",
    "\n",
    "# ejercicio resuelto\n",
    "lista2 = lista.copy()\n",
    "lista3 = lista + lista2\n",
    "print(lista3)"
   ]
  },
  {
   "cell_type": "code",
   "execution_count": 5,
   "metadata": {},
   "outputs": [
    {
     "name": "stdout",
     "output_type": "stream",
     "text": [
      "[1, 2, 3, 4, 5, 6]\n"
     ]
    }
   ],
   "source": [
    "# EJERCICIO 2\n",
    "# COMBINAR DOS LISTAS\n",
    "# dadas las siguientes listas el output esperado es:\n",
    "lista1 = [1, 2, 3]\n",
    "lista2 = [4, 5, 6]\n",
    "\n",
    "[1, 2, 3, 4, 5, 6]\n",
    "\n",
    "# ejercicio resuelto\n",
    "lista_combinada = lista1 + lista2\n",
    "print(lista_combinada)"
   ]
  },
  {
   "cell_type": "code",
   "execution_count": 6,
   "metadata": {},
   "outputs": [
    {
     "name": "stdout",
     "output_type": "stream",
     "text": [
      "30\n"
     ]
    }
   ],
   "source": [
    "# EJERCICIO 3\n",
    "# Calcular la suma de una lista de números\n",
    "# Descripción: Dada una lista de números, calcula la suma de todos los elementos.\n",
    "lista_numeros = [2, 4, 6, 8, 10]\n",
    "lista_suma = sum(lista_numeros)\n",
    "print(lista_suma)"
   ]
  },
  {
   "cell_type": "code",
   "execution_count": 7,
   "metadata": {},
   "outputs": [
    {
     "data": {
      "text/plain": [
       "10"
      ]
     },
     "execution_count": 7,
     "metadata": {},
     "output_type": "execute_result"
    }
   ],
   "source": [
    "# EJERCICIO 4\n",
    "# Encontrar el valor máximo en una lista\n",
    "# Descripción: Dada una lista de números, encuentra el valor\n",
    "max(lista_numeros)"
   ]
  },
  {
   "cell_type": "code",
   "execution_count": 8,
   "metadata": {},
   "outputs": [
    {
     "data": {
      "text/plain": [
       "5"
      ]
     },
     "execution_count": 8,
     "metadata": {},
     "output_type": "execute_result"
    }
   ],
   "source": [
    "# EJERCICIO 5\n",
    "# Calcular la longitud de una lista\n",
    "# Descripción: Dada una lista, calcula la cantidad de elementos que contiene.\n",
    "len(lista_numeros)"
   ]
  },
  {
   "cell_type": "code",
   "execution_count": 9,
   "metadata": {},
   "outputs": [
    {
     "name": "stdout",
     "output_type": "stream",
     "text": [
      "2\n"
     ]
    }
   ],
   "source": [
    "# EJERCICIO 6\n",
    "# Encontrar el índice de un elemento en una lista\n",
    "# Descripción: Dada una lista y un valor objetivo, encuentra el índice del primer elemento que coincida con el valor objetivo.\n",
    "valor_objetivo = 6\n",
    "indice_lista = lista_numeros.index(valor_objetivo)\n",
    "print(indice_lista)"
   ]
  },
  {
   "cell_type": "code",
   "execution_count": 10,
   "metadata": {},
   "outputs": [
    {
     "data": {
      "text/plain": [
       "1"
      ]
     },
     "execution_count": 10,
     "metadata": {},
     "output_type": "execute_result"
    }
   ],
   "source": [
    "# EJERCICIO 7\n",
    "# Contar ocurrencias de un elemento en una lista\n",
    "# Descripción: Dada una lista y un valor objetivo, cuenta cuántas veces aparece el valor objetivo en la lista.\n",
    "lista_numeros.count(valor_objetivo)"
   ]
  },
  {
   "cell_type": "code",
   "execution_count": 11,
   "metadata": {},
   "outputs": [
    {
     "name": "stdout",
     "output_type": "stream",
     "text": [
      "[6, 8, 10]\n"
     ]
    }
   ],
   "source": [
    "# EJERCICIO 8\n",
    "# Obtener una sublista de una lista\n",
    "# Descripción: Dada una lista, crea una nueva lista que contenga los elementos desde el índice 2 hasta el índice 5 (sin incluirlo).\n",
    "sublista = lista_numeros[2:5]\n",
    "print(sublista)"
   ]
  },
  {
   "cell_type": "code",
   "execution_count": 12,
   "metadata": {},
   "outputs": [
    {
     "data": {
      "text/plain": [
       "10"
      ]
     },
     "execution_count": 12,
     "metadata": {},
     "output_type": "execute_result"
    }
   ],
   "source": [
    "# EJERCICIO 9 Y 10 (REPETIDO)\n",
    "# Obtener el último elemento de una lista\n",
    "# Descripción: Dada una lista, obtén el último elemento.\n",
    "lista_numeros[-1]"
   ]
  },
  {
   "cell_type": "code",
   "execution_count": 13,
   "metadata": {},
   "outputs": [
    {
     "name": "stdout",
     "output_type": "stream",
     "text": [
      "[4, 6]\n"
     ]
    }
   ],
   "source": [
    "# EJERCICIO 11\n",
    "# Obtener una sublista de una lista\n",
    "# Descripción: Dada una lista, obtén una sublista que contenga los elementos desde el índice 1 hasta el índice 3 (sin incluirlo).\n",
    "sublista = lista_numeros[1:3]\n",
    "print(sublista)"
   ]
  },
  {
   "cell_type": "code",
   "execution_count": 14,
   "metadata": {},
   "outputs": [
    {
     "name": "stdout",
     "output_type": "stream",
     "text": [
      "[2, 4, 6, 8, 10]\n",
      "La lista con el elemento reemplazado es: [2, 12, 6, 8, 10]\n"
     ]
    }
   ],
   "source": [
    "# EJERCICIO 12\n",
    "# Reemplazar un elemento en una lista\n",
    "# Descripción: Dada una lista, reemplaza el segundo elemento con un nuevo valor\n",
    "print(lista_numeros)\n",
    "lista_numeros[1] = 12\n",
    "print(\"La lista con el elemento reemplazado es:\", lista_numeros)"
   ]
  },
  {
   "cell_type": "code",
   "execution_count": 16,
   "metadata": {},
   "outputs": [
    {
     "name": "stdout",
     "output_type": "stream",
     "text": [
      "La lista antes de aplicar el metodo reverse: [2, 4, 6, 8, 10]\n",
      "La lista despues de aplicar el metodo reverse: [10, 8, 6, 4, 2]\n"
     ]
    }
   ],
   "source": [
    "# EJERCICIO 13\n",
    "# Obtener una lista inversa\n",
    "# Descripción: Dada una lista, obtén una nueva lista que contenga los elementos en orden inverso.\n",
    "lista_numeros[1] = 4\n",
    "copia_lista = lista_numeros.copy()\n",
    "print(\"La lista antes de aplicar el metodo reverse:\", copia_lista)\n",
    "copia_lista.reverse()\n",
    "print(\"La lista despues de aplicar el metodo reverse:\", copia_lista)\n",
    "\n"
   ]
  },
  {
   "cell_type": "code",
   "execution_count": 19,
   "metadata": {},
   "outputs": [
    {
     "name": "stdout",
     "output_type": "stream",
     "text": [
      "Lista ordenada en ascendente: [2, 4, 6, 8, 10]\n"
     ]
    }
   ],
   "source": [
    "# EJERCICIO 14\n",
    "# Ordenar una lista en orden ascendente\n",
    "# Descripción: Dada una lista de números, ordénala en orden ascendente.\n",
    "sorted(copia_lista)\n",
    "lista_ordenada_ascendente = sorted(copia_lista)\n",
    "print(\"Lista ordenada en ascendente:\", lista_ordenada_ascendente)\n"
   ]
  },
  {
   "cell_type": "markdown",
   "metadata": {},
   "source": [
    "EJERCICIOS BONUS"
   ]
  },
  {
   "cell_type": "code",
   "execution_count": 21,
   "metadata": {},
   "outputs": [
    {
     "name": "stdout",
     "output_type": "stream",
     "text": [
      "La lista con datos pares es: [20, 22, 24, 26, 28, 30]\n"
     ]
    }
   ],
   "source": [
    "# EJERCICIO 15\n",
    "# Obtener elementos pares de una lista\n",
    "# Descripción: Dada una lista, obtén una nueva lista que contenga solo los elementos en posiciones pares.\n",
    "lista_pares_e_impares = [20,21,22,23,24,25,26,27,28,29,30]\n",
    "print(\"La lista con datos pares es:\", lista_pares_e_impares[0:11:2])"
   ]
  },
  {
   "cell_type": "code",
   "execution_count": 25,
   "metadata": {},
   "outputs": [
    {
     "name": "stdout",
     "output_type": "stream",
     "text": [
      "Sublista con salto de 3 en 3: [20, 24, 28]\n"
     ]
    }
   ],
   "source": [
    "# EJERCICIO 16\n",
    "# Obtener una sublista saltando elementos\n",
    "# Descripción: Dada una lista, obtén una sublista que contenga los elementos saltando de 3 en 3.\n",
    "print(\"Sublista con salto de 3 en 3:\", lista_pares_e_impares[0:11:4])\n"
   ]
  },
  {
   "cell_type": "code",
   "execution_count": 24,
   "metadata": {},
   "outputs": [
    {
     "data": {
      "text/plain": [
       "30"
      ]
     },
     "execution_count": 24,
     "metadata": {},
     "output_type": "execute_result"
    }
   ],
   "source": [
    "# EJERCICIO 17\n",
    "# Encontrar el segundo valor máximo en una lista\n",
    "# Descripción: Dada una lista de números, encuentra el segundo valor máximo.\n",
    "max(lista_pares_e_impares)"
   ]
  },
  {
   "cell_type": "code",
   "execution_count": null,
   "metadata": {},
   "outputs": [],
   "source": [
    "# EJERCICIO 18\n",
    "# Teórico. Debereis contestar la pregunta en una celda de markdown.\n",
    "# Descripción: ¿Qué diferencia existe entre el .sort() y el sorted()"
   ]
  },
  {
   "cell_type": "markdown",
   "metadata": {},
   "source": [
    "La diferencia entre el metodo .sort() y .sorted() es que .sort() sobreescribe los cambios en la lista original, y .sorted() no sobreescribe."
   ]
  },
  {
   "cell_type": "code",
   "execution_count": null,
   "metadata": {},
   "outputs": [],
   "source": [
    "# EJERCICIO 19\n",
    "# Agregar elementos a una lista utilizando append y extend\n",
    "# Descripción: Dada una lista inicial, agrega nuevos elementos utilizando tanto append como extend y observa las diferencias en el resultado final. El elemento que deberéis usar para añadir a la lista original tiene que ser una lista."
   ]
  },
  {
   "cell_type": "code",
   "execution_count": null,
   "metadata": {},
   "outputs": [],
   "source": [
    "# EJERCICIO 20\n",
    "# Insertar un elemento en una posición específica\n",
    "# Descripción: Dada una lista, inserta un nuevo elemento en una posición específica determinada por el usuario (debereis usar la función input para preguntar al usuario en que posición quiere insertar el elemento)."
   ]
  },
  {
   "cell_type": "code",
   "execution_count": null,
   "metadata": {},
   "outputs": [],
   "source": [
    "# EJERCICIO 21\n",
    "# Verificar si un elemento está presente en una lista\n",
    "# Descripción: Dada una lista, verifica si un elemento específico está presente en ella. Igual que el caso anterior, debereis preguntar al usuario que elemento quiere buscar en la lista. El resultado deberá ser True o False."
   ]
  },
  {
   "cell_type": "code",
   "execution_count": null,
   "metadata": {},
   "outputs": [],
   "source": [
    "# EJERCICIO 22\n",
    "# Manipulación de una lista utilizando remove(), pop() y clear()\n",
    "# Descripción: Crea una lista inicial, realiza operaciones de eliminación y limpieza utilizando los métodos remove(), pop() y clear(), y observa cómo afectan a la lista."
   ]
  },
  {
   "cell_type": "markdown",
   "metadata": {},
   "source": [
    "EJERCICIOS TUPLAS"
   ]
  },
  {
   "cell_type": "code",
   "execution_count": 29,
   "metadata": {},
   "outputs": [
    {
     "name": "stdout",
     "output_type": "stream",
     "text": [
      "El primer elemento de la tupla es: profesora\n"
     ]
    }
   ],
   "source": [
    "# EJERCICIO 1\n",
    "# Acceder al primer elemento de una tupla\n",
    "# Descripción: Dada una tupla, obtén el primer elemento.\n",
    "profesiones = (\"profesora\", \"piloto\", \"enfermero\", \"juez\", \"conductora\", \"arquitecto\", \"artista\", \"escritor\")\n",
    "print(\"El primer elemento de la tupla profesiones es:\", profesiones[0])"
   ]
  },
  {
   "cell_type": "code",
   "execution_count": 30,
   "metadata": {},
   "outputs": [
    {
     "name": "stdout",
     "output_type": "stream",
     "text": [
      "El ultimo elemento de la tupla profesiones es: escritor\n"
     ]
    }
   ],
   "source": [
    "# EJERCICIO 2\n",
    "# Acceder al último elemento de una tupla\n",
    "# Descripción: Dada una tupla, obtén el último elemento.\n",
    "print(\"El ultimo elemento de la tupla profesiones es:\", profesiones[-1])"
   ]
  },
  {
   "cell_type": "code",
   "execution_count": 31,
   "metadata": {},
   "outputs": [
    {
     "data": {
      "text/plain": [
       "8"
      ]
     },
     "execution_count": 31,
     "metadata": {},
     "output_type": "execute_result"
    }
   ],
   "source": [
    "# EJERCICIO 3\n",
    "# Obtener la longitud de una tupla\n",
    "# Descripción: Dada una tupla, obtén la cantidad de elementos que contiene.\n",
    "len(profesiones)"
   ]
  },
  {
   "cell_type": "code",
   "execution_count": 37,
   "metadata": {},
   "outputs": [
    {
     "name": "stdout",
     "output_type": "stream",
     "text": [
      "La tupla 1 es: ('profesora', 'piloto', 'enfermero', 'juez', 'conductora', 'arquitecto', 'artista', 'escritor')\n",
      "La tupla 2 es: ('teacher', 'pilot', 'nurse', 'judge', 'driver', 'architect', 'artist', 'writer')\n",
      "El resultado de concatenar las 2 tuplas es: ('profesora', 'piloto', 'enfermero', 'juez', 'conductora', 'arquitecto', 'artista', 'escritor', 'teacher', 'pilot', 'nurse', 'judge', 'driver', 'architect', 'artist', 'writer')\n"
     ]
    }
   ],
   "source": [
    "# EJERCICIO 4\n",
    "# Concatenar dos tuplas\n",
    "# Descripción: Dadas dos tuplas, crea una nueva tupla que contenga todos los elementos de ambas tuplas.\n",
    "print(\"La tupla 1 es:\", profesiones)\n",
    "eng_profesiones = (\"teacher\", \"pilot\", \"nurse\", \"judge\", \"driver\", \"architect\", \"artist\", \"writer\")\n",
    "print(\"La tupla 2 es:\", eng_profesiones)\n",
    "profesiones_traducidas = profesiones + eng_profesiones \n",
    "print(\"El resultado de concatenar las 2 tuplas es:\", profesiones_traducidas)"
   ]
  },
  {
   "cell_type": "code",
   "execution_count": 34,
   "metadata": {},
   "outputs": [
    {
     "name": "stdout",
     "output_type": "stream",
     "text": [
      "El indice de juez esta en la posicion: 3\n"
     ]
    }
   ],
   "source": [
    "# EJERCICIO 5\n",
    "# Encontrar el índice de un elemento en una tupla\n",
    "# Descripción: Dada una tupla y un valor objetivo, encuentra el índice del primer elemento que coincida con el valor objetivo.\n",
    "print(\"El indice de juez esta en la posicion:\", profesiones.index(\"juez\"))"
   ]
  },
  {
   "cell_type": "code",
   "execution_count": 33,
   "metadata": {},
   "outputs": [
    {
     "name": "stdout",
     "output_type": "stream",
     "text": [
      "El valor objetivo 44 aparece 6 veces en la tupla\n"
     ]
    }
   ],
   "source": [
    "# EJERCICIO 6\n",
    "# Contar ocurrencias de un elemento en una tupla\n",
    "# Descripción: Dada una tupla y un valor objetivo, cuenta cuántas veces aparece el valor objetivo en \n",
    "tupla_ocurrencias = (88, 98, 44, 12, 44, 56, 9, 44, 1, 3, 44, 70, 71, 72, 44, 48, 44, 53, 35)\n",
    "print(\"El valor objetivo 44 aparece\", tupla_ocurrencias.count(44), \"veces en la tupla\")"
   ]
  },
  {
   "cell_type": "code",
   "execution_count": null,
   "metadata": {},
   "outputs": [],
   "source": [
    "# EJERCICIO 7\n",
    "# Obtener una subtuple de una tupla\n",
    "# Descripción: Dada una tupla, crea una nueva tupla que contenga los elementos desde el índice 1 hasta el índice 3 (sin incluirlo)."
   ]
  },
  {
   "cell_type": "code",
   "execution_count": null,
   "metadata": {},
   "outputs": [],
   "source": [
    "# EJERCICIO 8\n",
    "# Invertir una tupla\n",
    "# Descripción: Dada una tupla, inviértela en orden."
   ]
  }
 ],
 "metadata": {
  "kernelspec": {
   "display_name": "base",
   "language": "python",
   "name": "python3"
  },
  "language_info": {
   "codemirror_mode": {
    "name": "ipython",
    "version": 3
   },
   "file_extension": ".py",
   "mimetype": "text/x-python",
   "name": "python",
   "nbconvert_exporter": "python",
   "pygments_lexer": "ipython3",
   "version": "3.12.4"
  }
 },
 "nbformat": 4,
 "nbformat_minor": 2
}
